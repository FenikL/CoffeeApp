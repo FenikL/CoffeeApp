{
 "cells": [
  {
   "cell_type": "code",
   "execution_count": 216,
   "id": "bb9ae4f6-fc1f-463d-96ab-8d217cac4b36",
   "metadata": {},
   "outputs": [],
   "source": [
    "from sqlalchemy import Column, Integer, Float, String\n",
    "from sqlalchemy.ext.declarative import declarative_base\n",
    "from sqlalchemy import ForeignKey\n",
    "from sqlalchemy.orm import relationship"
   ]
  },
  {
   "cell_type": "code",
   "execution_count": 217,
   "id": "dfa062b3-4ff3-4b82-aa8c-d2884881daee",
   "metadata": {},
   "outputs": [],
   "source": [
    "Base = declarative_base()\n",
    "\n",
    "class User(Base):\n",
    "    __tablename__ = 'user'\n",
    "\n",
    "    id = Column(Integer, primary_key=True)\n",
    "    name = Column(String)\n",
    "    fullname = Column(String)\n",
    "\n",
    "    def __repr__(self):\n",
    "        return \"<User(%r, %r, %r)>\" % (\n",
    "                self.name, self.fullname, self.id\n",
    "            )\n",
    "\n",
    "class Address(Base):\n",
    "    __tablename__ = 'address'\n",
    "\n",
    "    id = Column(Integer, primary_key=True)\n",
    "    email_address = Column(String, nullable=False)\n",
    "    user_id = Column(Integer, ForeignKey('user.id'))\n",
    "\n",
    "    user = relationship(\"User\", backref=\"addresses\")"
   ]
  },
  {
   "cell_type": "code",
   "execution_count": 71,
   "id": "50005c8b-166e-49da-acb8-26d1dc2c7d68",
   "metadata": {},
   "outputs": [],
   "source": [
    "# Пока у пользователя нет \"addresses\"\n",
    "jack = User(name='jack', fullname='Jack Bean')\n",
    "mstinskaya = Address(email_address='jack@gmail.com')\n",
    "jack.addresses  # Пустой список\n",
    "\n",
    "# Добавим адресов ему\n",
    "jack.addresses = [\n",
    "            Address(email_address='jack@gmail.com'),\n",
    "            Address(email_address='j25@yahoo.com'),\n",
    "            Address(email_address='jack@hotmail.com'),\n",
    "            ]"
   ]
  },
  {
   "cell_type": "code",
   "execution_count": 73,
   "id": "8183d1b3-342b-4ad5-a172-77087d49c4c4",
   "metadata": {},
   "outputs": [
    {
     "data": {
      "text/plain": [
       "<User('jack', 'Jack Bean', None)>"
      ]
     },
     "execution_count": 73,
     "metadata": {},
     "output_type": "execute_result"
    }
   ],
   "source": [
    "jack"
   ]
  },
  {
   "cell_type": "code",
   "execution_count": 75,
   "id": "f81e2370-a642-4a1d-8ca6-0f555f60711c",
   "metadata": {},
   "outputs": [
    {
     "ename": "AttributeError",
     "evalue": "'User' object has no attribute 'address'",
     "output_type": "error",
     "traceback": [
      "\u001b[0;31m---------------------------------------------------------------------------\u001b[0m",
      "\u001b[0;31mAttributeError\u001b[0m                            Traceback (most recent call last)",
      "\u001b[0;32m/var/folders/9j/67n4flx16xq1ff2254rnh2zc0000gn/T/ipykernel_17982/3288330724.py\u001b[0m in \u001b[0;36m<module>\u001b[0;34m\u001b[0m\n\u001b[0;32m----> 1\u001b[0;31m \u001b[0mjack\u001b[0m\u001b[0;34m.\u001b[0m\u001b[0maddress\u001b[0m\u001b[0;34m\u001b[0m\u001b[0;34m\u001b[0m\u001b[0m\n\u001b[0m",
      "\u001b[0;31mAttributeError\u001b[0m: 'User' object has no attribute 'address'"
     ]
    }
   ],
   "source": [
    "jack.address"
   ]
  },
  {
   "cell_type": "code",
   "execution_count": 164,
   "id": "18432460-5774-46b1-b27d-a07e86e603e8",
   "metadata": {},
   "outputs": [],
   "source": [
    "from sqlalchemy import Column, String, TIMESTAMP\n",
    "from sqlalchemy.ext.declarative import declarative_base\n",
    "from sqlalchemy import ForeignKey\n",
    "from sqlalchemy.orm import relationship\n",
    "\n",
    "Base = declarative_base()\n",
    "\n",
    "class User(Base):\n",
    "    __tablename__ = 'users'\n",
    "\n",
    "    id = Column(Integer, primary_key=True)\n",
    "    email = Column(String(), nullable=False)\n",
    "    password = Column(String(), nullable=False)\n",
    "    name = Column(String(), nullable=False)\n",
    "    last_name = Column(String(), nullable=False)\n",
    "    \n",
    "    def __repr__(self):\n",
    "        return \"<User(%r, %r, %r, %r, %r)>\" % (\n",
    "            self.id, self.email, self.password, self.name, self.last_name\n",
    "        )\n",
    "    \n",
    "    order = relationship('Orders')\n",
    "    \n",
    "class Orders(Base):\n",
    "    __tablename__ = 'Orders'\n",
    "    id = Column(Integer, primary_key=True)\n",
    "    user_id = Column(Integer, ForeignKey('users.id'))\n",
    "    \n",
    "    date = Column(TIMESTAMP(timezone=True), nullable=False)\n",
    "    \n",
    "    def __repr__(self):\n",
    "        return \"<Orders(%r, %r, %r)>\" % (\n",
    "            self.id, self.user_id, self.date\n",
    "        )\n",
    "    items = relationship('Order_items')\n",
    "    \n",
    "    \n",
    "class Order_items(Base):\n",
    "    __tablename__ = 'Order_items'\n",
    "    id = Column(Integer, primary_key=True)\n",
    "    order_id = Column(Integer, ForeignKey('Orders.id'))\n",
    "    coffee_id = Column(Integer, ForeignKey('Coffee.id'))\n",
    "    count = Column(Integer, nullable=False)\n",
    "    \n",
    "class Coffee(Base):\n",
    "    __tablename__ = 'Coffee'\n",
    "    id = Column(Integer, primary_key=True)\n",
    "    name = Column(String(), nullable=False) \n",
    "    strength = Column(String(), nullable=False) \n",
    "    img = Column(String(), nullable=True) \n",
    "    cost = Column(Float, nullable=False) \n",
    "    \n",
    "class Balance(Base):\n",
    "    __tablename__ = 'Balance'\n",
    "    id = Column(Integer, primary_key=True) \n",
    "    user_id = Column(Integer, ForeignKey('users.id'))\n",
    "    \n",
    "class Balance_items(Base):\n",
    "    __tablename__ = 'Balance_items'\n",
    "    id = Column(Integer, primary_key=True) \n",
    "    coffee_id = Column(Integer, ForeignKey('Coffee.id'))\n",
    "    balance_id = Column(Integer, ForeignKey('Balance.id'))\n",
    "    count = Column(Integer, nullable=False)"
   ]
  },
  {
   "cell_type": "code",
   "execution_count": 165,
   "id": "f7156ac9-dcab-4289-a8df-a6e1758848a9",
   "metadata": {},
   "outputs": [],
   "source": [
    "jack = User(email='qwe@qwe.ru', password = 'qweqwe', name='qeqwe', last_name='qweqwe')"
   ]
  },
  {
   "cell_type": "code",
   "execution_count": 167,
   "id": "cc51bc78-8164-4272-9da4-af272c3feb5e",
   "metadata": {},
   "outputs": [],
   "source": [
    "jack.orders = [Orders(date='')]"
   ]
  },
  {
   "cell_type": "code",
   "execution_count": 168,
   "id": "1c4affc8-f2a7-4303-918e-1602a1cc61ee",
   "metadata": {},
   "outputs": [
    {
     "ename": "AttributeError",
     "evalue": "'list' object has no attribute 'items'",
     "output_type": "error",
     "traceback": [
      "\u001b[0;31m---------------------------------------------------------------------------\u001b[0m",
      "\u001b[0;31mAttributeError\u001b[0m                            Traceback (most recent call last)",
      "\u001b[0;32m/var/folders/9j/67n4flx16xq1ff2254rnh2zc0000gn/T/ipykernel_17982/341313543.py\u001b[0m in \u001b[0;36m<module>\u001b[0;34m\u001b[0m\n\u001b[0;32m----> 1\u001b[0;31m \u001b[0mjack\u001b[0m\u001b[0;34m.\u001b[0m\u001b[0morders\u001b[0m\u001b[0;34m.\u001b[0m\u001b[0mitems\u001b[0m \u001b[0;34m=\u001b[0m \u001b[0mOrder_items\u001b[0m\u001b[0;34m(\u001b[0m\u001b[0mcount\u001b[0m\u001b[0;34m=\u001b[0m\u001b[0;36m1\u001b[0m\u001b[0;34m)\u001b[0m\u001b[0;34m\u001b[0m\u001b[0;34m\u001b[0m\u001b[0m\n\u001b[0m",
      "\u001b[0;31mAttributeError\u001b[0m: 'list' object has no attribute 'items'"
     ]
    }
   ],
   "source": [
    "orders.items = Order_items(count=1)"
   ]
  },
  {
   "cell_type": "code",
   "execution_count": 130,
   "id": "71cf70b1-9aaa-4b96-b785-5c0121012882",
   "metadata": {},
   "outputs": [
    {
     "data": {
      "text/plain": [
       "<User(None, 'qwe@qwe.ru', 'qweqwe', 'qeqwe', 'qweqwe')>"
      ]
     },
     "execution_count": 130,
     "metadata": {},
     "output_type": "execute_result"
    }
   ],
   "source": [
    "jack"
   ]
  },
  {
   "cell_type": "code",
   "execution_count": 298,
   "id": "b5617489-c6ef-430f-9fcc-d59227efeeba",
   "metadata": {},
   "outputs": [],
   "source": [
    "from sqlalchemy import Column, String, TIMESTAMP\n",
    "from sqlalchemy.ext.declarative import declarative_base\n",
    "from sqlalchemy.dialects.postgresql import UUID\n",
    "\n",
    "Base = declarative_base()\n",
    "\n",
    "class Author(Base):\n",
    "    __tablename__ = 'authors'\n",
    "    id = Column(Integer, primary_key=True)\n",
    "    first_name = Column(String(100), nullable=False)\n",
    "    last_name = Column(String(100), nullable=False)\n",
    "    \n",
    "    def __repr__(self):\n",
    "        return \"<User(%r, %r, %r)>\" % (\n",
    "                self.first_name, self.last_name, self.id\n",
    "            )\n",
    "    \n",
    "    #books = relationship(\"Book\")\n",
    "\n",
    "class Book(Base):\n",
    "    __tablename__ = 'books'\n",
    "    id = Column(Integer, primary_key=True)\n",
    "    title = Column(String(100), nullable=False)\n",
    "    #copyright = Column(SmallInteger, nullable=False)\n",
    "    author_id = Column(Integer, ForeignKey('authors.id'))\n",
    "    author = relationship(\"Author\", backref=\"books\")\n",
    "    \n",
    "    def __repr__(self):\n",
    "        return \"<User(%r, %r, %r)>\" % (\n",
    "                self.title, self.author_id, self.id\n",
    "            )"
   ]
  },
  {
   "cell_type": "code",
   "execution_count": 299,
   "id": "6dda122d-3927-4d20-b2a9-ed3609f65949",
   "metadata": {},
   "outputs": [],
   "source": [
    "jack = Author(first_name = 'Jack', last_name = 'Jakson')"
   ]
  },
  {
   "cell_type": "code",
   "execution_count": 303,
   "id": "c2d01855-9f4e-4069-8ee0-1f9b19c1adb6",
   "metadata": {},
   "outputs": [],
   "source": [
    "jack.booksjj = Book(title = 'qweqwe')"
   ]
  },
  {
   "cell_type": "code",
   "execution_count": 305,
   "id": "8058af0b-8bed-4d27-8b06-cff493591e21",
   "metadata": {},
   "outputs": [
    {
     "data": {
      "text/plain": [
       "<User('qweqwe', None, None)>"
      ]
     },
     "execution_count": 305,
     "metadata": {},
     "output_type": "execute_result"
    }
   ],
   "source": [
    "jack.booksjj"
   ]
  },
  {
   "cell_type": "code",
   "execution_count": 294,
   "id": "e7472fe2-0855-4470-ac94-8b0dfb2120a9",
   "metadata": {},
   "outputs": [],
   "source": [
    "qweqwe = Book(title = 'qweqwe')"
   ]
  },
  {
   "cell_type": "code",
   "execution_count": 297,
   "id": "59cd9cf7-2157-42c6-b052-1b157f9eb814",
   "metadata": {},
   "outputs": [
    {
     "ename": "AttributeError",
     "evalue": "'Book' object has no attribute 'authors'",
     "output_type": "error",
     "traceback": [
      "\u001b[0;31m---------------------------------------------------------------------------\u001b[0m",
      "\u001b[0;31mAttributeError\u001b[0m                            Traceback (most recent call last)",
      "\u001b[0;32m/var/folders/9j/67n4flx16xq1ff2254rnh2zc0000gn/T/ipykernel_17982/3426665451.py\u001b[0m in \u001b[0;36m<module>\u001b[0;34m\u001b[0m\n\u001b[0;32m----> 1\u001b[0;31m \u001b[0mqweqwe\u001b[0m\u001b[0;34m.\u001b[0m\u001b[0mauthors\u001b[0m\u001b[0;34m\u001b[0m\u001b[0;34m\u001b[0m\u001b[0m\n\u001b[0m",
      "\u001b[0;31mAttributeError\u001b[0m: 'Book' object has no attribute 'authors'"
     ]
    }
   ],
   "source": [
    "qweqwe.authors"
   ]
  },
  {
   "cell_type": "code",
   "execution_count": 296,
   "id": "41838852-5a01-4fed-ba03-3a2e8ae7f66d",
   "metadata": {},
   "outputs": [
    {
     "data": {
      "text/plain": [
       "<User('qweqwe', None, None)>"
      ]
     },
     "execution_count": 296,
     "metadata": {},
     "output_type": "execute_result"
    }
   ],
   "source": [
    "qweqwe"
   ]
  },
  {
   "cell_type": "code",
   "execution_count": null,
   "id": "9a3d4f8b-30b9-44b4-a912-65dd94ec48bf",
   "metadata": {},
   "outputs": [],
   "source": []
  }
 ],
 "metadata": {
  "kernelspec": {
   "display_name": "Python 3 (ipykernel)",
   "language": "python",
   "name": "python3"
  },
  "language_info": {
   "codemirror_mode": {
    "name": "ipython",
    "version": 3
   },
   "file_extension": ".py",
   "mimetype": "text/x-python",
   "name": "python",
   "nbconvert_exporter": "python",
   "pygments_lexer": "ipython3",
   "version": "3.8.5"
  }
 },
 "nbformat": 4,
 "nbformat_minor": 5
}
